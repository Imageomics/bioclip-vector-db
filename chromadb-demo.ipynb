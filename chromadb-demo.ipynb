{
 "cells": [
  {
   "cell_type": "code",
   "execution_count": 40,
   "id": "f63221b1-110e-48b4-b71a-091cabd4daf5",
   "metadata": {},
   "outputs": [
    {
     "name": "stdout",
     "output_type": "stream",
     "text": [
      "\n",
      "\u001b[1m[\u001b[0m\u001b[34;49mnotice\u001b[0m\u001b[1;39;49m]\u001b[0m\u001b[39;49m A new release of pip is available: \u001b[0m\u001b[31;49m25.0\u001b[0m\u001b[39;49m -> \u001b[0m\u001b[32;49m25.0.1\u001b[0m\n",
      "\u001b[1m[\u001b[0m\u001b[34;49mnotice\u001b[0m\u001b[1;39;49m]\u001b[0m\u001b[39;49m To update, run: \u001b[0m\u001b[32;49m/opt/homebrew/Cellar/jupyterlab/4.3.5/libexec/bin/python -m pip install --upgrade pip\u001b[0m\n"
     ]
    }
   ],
   "source": [
    "import sys\n",
    "\n",
    "!{sys.executable} -m pip install -r requirements.txt --quiet\n",
    "\n",
    "import PIL.Image\n",
    "from IPython.display import display\n",
    "from datetime import datetime\n",
    "import importlib\n",
    "\n",
    "from bioclip_vector_db import BioclipVectorDatabase\n"
   ]
  },
  {
   "cell_type": "code",
   "execution_count": 41,
   "id": "9466bc15-9a64-4fcc-86f7-67292adb891b",
   "metadata": {},
   "outputs": [
    {
     "name": "stderr",
     "output_type": "stream",
     "text": [
      "[2025-03-07 16:33:37,631] [INFO] [root] MPS is available\n",
      "[2025-03-07 16:33:37,811] [INFO] [root] Loaded hf-hub:imageomics/bioclip model config.\n",
      "[2025-03-07 16:33:45,166] [INFO] [root] Loading pretrained hf-hub:imageomics/bioclip weights (/Users/sreejithnoopur/.cache/huggingface/hub/models--imageomics--bioclip/snapshots/a1a779ecabfa8df4d842e36dafef45a1a4c77a09/open_clip_pytorch_model.bin).\n",
      "[2025-03-07 16:33:47,058] [INFO] [root] Loading dataset: Somnath01/Birds_Species for split: train\n"
     ]
    },
    {
     "data": {
      "application/vnd.jupyter.widget-view+json": {
       "model_id": "031becf09bc247338bc409f16f95a01b",
       "version_major": 2,
       "version_minor": 0
      },
      "text/plain": [
       "Resolving data files:   0%|          | 0/1000 [00:00<?, ?it/s]"
      ]
     },
     "metadata": {},
     "output_type": "display_data"
    },
    {
     "data": {
      "application/vnd.jupyter.widget-view+json": {
       "model_id": "81b115c963bd4210ad5c8846ff277353",
       "version_major": 2,
       "version_minor": 0
      },
      "text/plain": [
       "Resolving data files:   0%|          | 0/50 [00:00<?, ?it/s]"
      ]
     },
     "metadata": {},
     "output_type": "display_data"
    },
    {
     "data": {
      "application/vnd.jupyter.widget-view+json": {
       "model_id": "9fd5eb98e6e94d0b8d5f94773f33cc4d",
       "version_major": 2,
       "version_minor": 0
      },
      "text/plain": [
       "Resolving data files:   0%|          | 0/403 [00:00<?, ?it/s]"
      ]
     },
     "metadata": {},
     "output_type": "display_data"
    }
   ],
   "source": [
    "bioclip_vdb = BioclipVectorDatabase(create_vector_db.HfDatasetType.BIRD, \n",
    "                                    collection_dir=create_vector_db._DEFAULT_OUTPUT_DIR, \n",
    "                                    split=\"train\")"
   ]
  },
  {
   "cell_type": "code",
   "execution_count": 46,
   "id": "70cedc1f-8ca4-4734-aad9-a55ffbd82342",
   "metadata": {},
   "outputs": [
    {
     "name": "stderr",
     "output_type": "stream",
     "text": [
      "[2025-03-07 16:39:07,738] [INFO] [root] Resetting the database.\n",
      "[2025-03-07 16:39:38,604] [INFO] [root] Database created with 1000 records.\n"
     ]
    }
   ],
   "source": [
    "bioclip_vdb.load_database(reset=True)"
   ]
  },
  {
   "cell_type": "code",
   "execution_count": 47,
   "id": "162353e4-7586-4d7a-b825-64b57418aa63",
   "metadata": {},
   "outputs": [],
   "source": [
    "collection = bioclip_vdb.get_vector_database()"
   ]
  },
  {
   "cell_type": "markdown",
   "id": "8692ad24-318a-4839-9d44-3ed719d7f98a",
   "metadata": {},
   "source": [
    "### Query "
   ]
  },
  {
   "cell_type": "code",
   "execution_count": 48,
   "id": "cc5b4ff5-181b-4733-9da5-373216255de9",
   "metadata": {},
   "outputs": [],
   "source": [
    "def get_neighbors(test_idx: int):\n",
    "    query_img_embedding = clf.create_image_features_for_image(\n",
    "        test_dataset[test_idx][\"image\"], normalize=True).tolist()\n",
    "    \n",
    "    return collection.query(query_embeddings=[query_img_embedding], \n",
    "                     n_results = 5)['ids']"
   ]
  },
  {
   "cell_type": "code",
   "execution_count": 49,
   "id": "3e77e406-219e-4b69-b48a-3b16bc4fefe0",
   "metadata": {},
   "outputs": [],
   "source": [
    "def display_neighbors(test_idx: int):\n",
    "    start_ts = datetime.now()\n",
    "    neighbors = get_neighbors(test_idx)[0]\n",
    "    end_ts = datetime.now()\n",
    "    print(\"Below is the candidate image\")\n",
    "    display(test_dataset[test_idx][\"image\"])\n",
    "\n",
    "    print(\"\\nNearest neighbors\")\n",
    "    for neighbor in neighbors:\n",
    "        display(index_dataset[int(neighbor)][\"image\"])\n",
    "\n",
    "    print(f\"Time taken: {end_ts - start_ts}\")"
   ]
  },
  {
   "cell_type": "code",
   "execution_count": 50,
   "id": "b8d44ba5-7dce-4ffe-beac-a5ee358c5afd",
   "metadata": {},
   "outputs": [
    {
     "ename": "NameError",
     "evalue": "name 'clf' is not defined",
     "output_type": "error",
     "traceback": [
      "\u001b[0;31m---------------------------------------------------------------------------\u001b[0m",
      "\u001b[0;31mNameError\u001b[0m                                 Traceback (most recent call last)",
      "Cell \u001b[0;32mIn[50], line 1\u001b[0m\n\u001b[0;32m----> 1\u001b[0m \u001b[43mdisplay_neighbors\u001b[49m\u001b[43m(\u001b[49m\u001b[38;5;241;43m10\u001b[39;49m\u001b[43m)\u001b[49m\n",
      "Cell \u001b[0;32mIn[49], line 3\u001b[0m, in \u001b[0;36mdisplay_neighbors\u001b[0;34m(test_idx)\u001b[0m\n\u001b[1;32m      1\u001b[0m \u001b[38;5;28;01mdef\u001b[39;00m\u001b[38;5;250m \u001b[39m\u001b[38;5;21mdisplay_neighbors\u001b[39m(test_idx: \u001b[38;5;28mint\u001b[39m):\n\u001b[1;32m      2\u001b[0m     start_ts \u001b[38;5;241m=\u001b[39m datetime\u001b[38;5;241m.\u001b[39mnow()\n\u001b[0;32m----> 3\u001b[0m     neighbors \u001b[38;5;241m=\u001b[39m \u001b[43mget_neighbors\u001b[49m\u001b[43m(\u001b[49m\u001b[43mtest_idx\u001b[49m\u001b[43m)\u001b[49m[\u001b[38;5;241m0\u001b[39m]\n\u001b[1;32m      4\u001b[0m     end_ts \u001b[38;5;241m=\u001b[39m datetime\u001b[38;5;241m.\u001b[39mnow()\n\u001b[1;32m      5\u001b[0m     \u001b[38;5;28mprint\u001b[39m(\u001b[38;5;124m\"\u001b[39m\u001b[38;5;124mBelow is the candidate image\u001b[39m\u001b[38;5;124m\"\u001b[39m)\n",
      "Cell \u001b[0;32mIn[48], line 2\u001b[0m, in \u001b[0;36mget_neighbors\u001b[0;34m(test_idx)\u001b[0m\n\u001b[1;32m      1\u001b[0m \u001b[38;5;28;01mdef\u001b[39;00m\u001b[38;5;250m \u001b[39m\u001b[38;5;21mget_neighbors\u001b[39m(test_idx: \u001b[38;5;28mint\u001b[39m):\n\u001b[0;32m----> 2\u001b[0m     query_img_embedding \u001b[38;5;241m=\u001b[39m \u001b[43mclf\u001b[49m\u001b[38;5;241m.\u001b[39mcreate_image_features_for_image(\n\u001b[1;32m      3\u001b[0m         test_dataset[test_idx][\u001b[38;5;124m\"\u001b[39m\u001b[38;5;124mimage\u001b[39m\u001b[38;5;124m\"\u001b[39m], normalize\u001b[38;5;241m=\u001b[39m\u001b[38;5;28;01mTrue\u001b[39;00m)\u001b[38;5;241m.\u001b[39mtolist()\n\u001b[1;32m      5\u001b[0m     \u001b[38;5;28;01mreturn\u001b[39;00m collection\u001b[38;5;241m.\u001b[39mquery(query_embeddings\u001b[38;5;241m=\u001b[39m[query_img_embedding], \n\u001b[1;32m      6\u001b[0m                      n_results \u001b[38;5;241m=\u001b[39m \u001b[38;5;241m5\u001b[39m)[\u001b[38;5;124m'\u001b[39m\u001b[38;5;124mids\u001b[39m\u001b[38;5;124m'\u001b[39m]\n",
      "\u001b[0;31mNameError\u001b[0m: name 'clf' is not defined"
     ]
    }
   ],
   "source": [
    "display_neighbors(10)"
   ]
  },
  {
   "cell_type": "code",
   "execution_count": null,
   "id": "39d51fec-c12e-45fb-bcd3-5f84dae9f0ec",
   "metadata": {},
   "outputs": [],
   "source": []
  }
 ],
 "metadata": {
  "kernelspec": {
   "display_name": "Python 3 (ipykernel)",
   "language": "python",
   "name": "python3"
  },
  "language_info": {
   "codemirror_mode": {
    "name": "ipython",
    "version": 3
   },
   "file_extension": ".py",
   "mimetype": "text/x-python",
   "name": "python",
   "nbconvert_exporter": "python",
   "pygments_lexer": "ipython3",
   "version": "3.13.2"
  }
 },
 "nbformat": 4,
 "nbformat_minor": 5
}
